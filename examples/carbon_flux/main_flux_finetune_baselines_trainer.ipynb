{
 "cells": [
  {
   "cell_type": "markdown",
   "id": "2844b145-8445-4fc0-994c-827b47f9cc51",
   "metadata": {},
   "source": [
    "### main_flux_finetune_baselines.py\n",
    "This notebook reads in HLS S30/L30 data and MERRA-2 processed data and uses\n",
    "Prithvi-EO-2.0-300M/ Prithvi-EO-2.0-300M-TL (with temporal and location embedding) to\n",
    "regress GPP flux at eddy covariance observation sites.\n",
    "\n",
    "Authors: Srija Chakraborty, Besart Mujeci (MERRA variables selection), Yanghui Kang (flux inputs)\n",
    "\n",
    "Usage:\n",
    "```\n",
    "    jupyter lab main_flux_finetune_baselines_trainer.ipynb\n",
    "```"
   ]
  },
  {
   "cell_type": "code",
   "execution_count": 1,
   "id": "d08434df-fac2-40c6-a6fa-8c70d42e3c71",
   "metadata": {},
   "outputs": [
    {
     "name": "stderr",
     "output_type": "stream",
     "text": [
      "INFO:albumentations.check_version:A new version of Albumentations is available: 1.4.21 (you have 1.4.10). Upgrade using: pip install --upgrade albumentations\n"
     ]
    }
   ],
   "source": [
    "import warnings\n",
    "warnings.filterwarnings(\"ignore\")\n",
    "\n",
    "import torch\n",
    "import torch.nn as nn\n",
    "import torch.optim as optim\n",
    "from torch.optim import lr_scheduler\n",
    "from torch.utils.data import DataLoader\n",
    "import os\n",
    "import matplotlib.pyplot as plt\n",
    "import numpy as np\n",
    "import rasterio\n",
    "import yaml\n",
    "import glob\n",
    "\n",
    "import pickle\n",
    "import argparse\n",
    "from typing import Optional\n",
    "from functools import partial\n",
    "import pandas as pd\n",
    "import rasterio\n",
    "from flux_load_data_vInf3 import flux_dataset, flux_dataloader\n",
    "from flux_regress import RegressionModel_flux\n",
    "\n",
    "from PIL import Image\n",
    "from flux_load_data_vInf3 import load_raster\n",
    "from flux_load_data_vInf3 import preprocess_image\n",
    "from torch.optim import AdamW\n",
    "from torch.optim.lr_scheduler import ReduceLROnPlateau\n",
    "import random\n",
    "from torcheval.metrics import R2Score\n",
    "from sklearn.metrics import r2_score\n",
    "import matplotlib.pyplot as plt\n",
    "from lightning.pytorch import Trainer\n",
    "from lightning.pytorch.callbacks import EarlyStopping, LearningRateMonitor, ModelCheckpoint, RichProgressBar\n",
    "from lightning.pytorch.loggers import TensorBoardLogger\n",
    "from torchgeo.trainers import BaseTask"
   ]
  },
  {
   "cell_type": "code",
   "execution_count": 2,
   "id": "813e3015-b0bb-4a9f-82ad-61d3663523e6",
   "metadata": {},
   "outputs": [],
   "source": [
    "from terratorch.models import EncoderDecoderFactory\n",
    "from terratorch.datasets import HLSBands\n",
    "from terratorch.tasks import PixelwiseRegressionTask\n",
    "from terratorch.models.pixel_wise_model import freeze_module"
   ]
  },
  {
   "cell_type": "code",
   "execution_count": 3,
   "id": "9f5bc4c3-7784-4702-b26e-86efd7b63698",
   "metadata": {},
   "outputs": [],
   "source": [
    "seed = 0\n",
    "torch.manual_seed(seed)\n",
    "np.random.seed(seed)\n",
    "random.seed(seed)"
   ]
  },
  {
   "cell_type": "markdown",
   "id": "216562ca-d087-4b27-9d1d-23066d6a0bee",
   "metadata": {},
   "source": [
    "### Evaluation metrics to log while training"
   ]
  },
  {
   "cell_type": "code",
   "execution_count": 4,
   "id": "fdabb39d-22ed-4fee-966f-c9fe3af6ca12",
   "metadata": {},
   "outputs": [],
   "source": [
    "def get_mse(pred, targ):\n",
    "    criterion = nn.MSELoss()\n",
    "    mse_loss = criterion(pred, targ)\n",
    "    return mse_loss.item()\n",
    "\n",
    "def get_mae(pred, targ):\n",
    "    criterion = nn.L1Loss()\n",
    "    mae_loss = criterion(pred, targ)\n",
    "    return mae_loss.item()\n",
    "\n",
    "#can use sklearn R2 instead -- as used to evalute whole dataset\n",
    "def get_r_sq(pred,targ):\n",
    "    metric = R2Score()\n",
    "    metric.update(pred, targ)\n",
    "    r2=metric.compute()\n",
    "    # Extracting the first element if it's a tensor with multiple elements\n",
    "    if isinstance(r2, torch.Tensor) and r2.numel() > 1:\n",
    "        return r2[0].item()\n",
    "    else:\n",
    "        return r2.item()"
   ]
  },
  {
   "cell_type": "markdown",
   "id": "160edd89-12a0-47b5-a8a5-cba8a3bdfe58",
   "metadata": {},
   "source": [
    "### Wrapper for the Prithvi model. "
   ]
  },
  {
   "cell_type": "code",
   "execution_count": 5,
   "id": "27a9e101-7d99-4024-b366-162244d3f0de",
   "metadata": {},
   "outputs": [],
   "source": [
    "class prithvi_terratorch(nn.Module):\n",
    "\n",
    "    def __init__(self, prithvi_weight, model_instance, input_size):\n",
    "\n",
    "        super(prithvi_terratorch, self).__init__()\n",
    "\n",
    "        # load checkpoint for Prithvi_global\n",
    "\n",
    "        self.weights_path = prithvi_weight\n",
    "        self.checkpoint = torch.load(self.weights_path)\n",
    "        self.input_size = input_size\n",
    "\n",
    "        self.prithvi_model = model_instance\n",
    "        \n",
    "        self.prithvi_model.load_state_dict(self.checkpoint, strict=False)\n",
    "\n",
    "    def freeze_encoder(self):\n",
    "        \n",
    "        freeze_module(self.prithvi_model)\n",
    "\n",
    "    def forward(self,x,temp,loc,mask):\n",
    "        \n",
    "        latent,_,ids_restore = self.prithvi_model.forward(x,temp,loc,mask)\n",
    "\n",
    "        return latent\n"
   ]
  },
  {
   "cell_type": "markdown",
   "id": "3103888f-7198-4d55-bee6-27acd36405a1",
   "metadata": {},
   "source": [
    "### Reading model configs from YAML file. "
   ]
  },
  {
   "cell_type": "code",
   "execution_count": 6,
   "id": "3779b849-11c9-4afd-817a-ca0236ed3787",
   "metadata": {},
   "outputs": [
    {
     "name": "stdout",
     "output_type": "stream",
     "text": [
      "TEST YEAR 2020\n"
     ]
    }
   ],
   "source": [
    "with open('fluxconfig_trainer.yaml', 'r') as file:\n",
    "        config = yaml.safe_load(file)\n",
    "\n",
    "device=config[\"device_name\"]\n",
    "n_channel=config[\"model\"][\"n_channel\"]\n",
    "embed_dim = config[\"model\"][\"embed_dim\"]\n",
    "patch_size = config[\"model\"][\"patch_size\"]\n",
    "num_heads = config[\"model\"][\"num_heads\"]\n",
    "mlp_ratio = config[\"model\"][\"mlp_ratio\"]\n",
    "decoder_depth = config[\"model\"][\"decoder_depth\"]\n",
    "head_dropout = config[\"model\"][\"head_dropout\"]\n",
    "\n",
    "n_frame=config[\"data\"][\"n_frame\"]\n",
    "n_iteration=config[\"n_iteration\"]\n",
    "checkpoint_dir=config[\"logging\"][\"checkpoint_dir\"]\n",
    "metrics_dir=config[\"logging\"][\"metrics_dir\"]\n",
    "plots_dir=config[\"logging\"][\"plots_dir\"]\n",
    "train_batch_size=config[\"training\"][\"train_batch_size\"]\n",
    "test_batch_size=config[\"testing\"][\"test_batch_size\"]\n",
    "optim_name=config[\"training\"][\"optimizer\"][\"name\"]\n",
    "learning_rate=float(config[\"training\"][\"optimizer\"][\"params\"][\"lr\"])\n",
    "sch=config[\"training\"][\"scheduler\"][\"use\"]\n",
    "drp=sch=config[\"training\"][\"dropout\"][\"use\"]\n",
    "drp_rate=float(config[\"training\"][\"dropout\"][\"val\"])\n",
    "bn=sch=float(config[\"training\"][\"bn\"])\n",
    "#class_weights=config[\"class_weights\"]\n",
    "input_size=config[\"data\"][\"input_size\"]\n",
    "chips=config[\"data\"][\"chips\"]\n",
    "chips_test=config[\"data\"][\"test_chips\"]\n",
    "year_to_test=config[\"test_year\"]\n",
    "print('TEST YEAR', year_to_test)\n",
    "means=config[\"data\"][f\"means_for{year_to_test}test\"]\n",
    "stds=config[\"data\"][f\"stds_for{year_to_test}test\"]\n",
    "merra_means=config[\"data\"][f\"merra_means_for{year_to_test}test\"]\n",
    "merra_stds=config[\"data\"][f\"merra_stds_for{year_to_test}test\"]\n",
    "gpp_means=config[\"data\"][f\"gpp_means_for{year_to_test}test\"]\n",
    "gpp_stds=config[\"data\"][f\"gpp_stds_for{year_to_test}test\"]\n",
    "test_year=config[\"test_year\"]\n",
    "norm=config[\"normalization\"]"
   ]
  },
  {
   "cell_type": "markdown",
   "id": "350f513f-0bee-49b5-bcca-ff38bcb99363",
   "metadata": {},
   "source": [
    "### Reading information about the datasets, as paths to the files and variables used to normalize them. "
   ]
  },
  {
   "cell_type": "code",
   "execution_count": 7,
   "id": "ea5bce36-24e9-49b7-ab83-710184ef0bf2",
   "metadata": {},
   "outputs": [],
   "source": [
    "#read merra, gpp inputs\n",
    "df = pd.read_csv(\"data_train_hls_37sites_v0_1.csv\")\n",
    "\n",
    "#get train_test splits\n",
    "test_df = df[df['year'] == year_to_test]\n",
    "test_chips = test_df['Chip'].tolist()\n",
    "merra_test = test_df[['T2MIN', 'T2MAX', 'T2MEAN', 'TSMDEWMEAN', 'GWETROOT', 'LHLAND', 'SHLAND', 'SWLAND', 'PARDFLAND', 'PRECTOTLAND']].values.tolist()\n",
    "test_target = test_df['GPP'].tolist()\n",
    "\n",
    "train_df = df[df['year'] != year_to_test]\n",
    "train_chips = train_df['Chip'].tolist()\n",
    "merra_train = train_df[['T2MIN', 'T2MAX', 'T2MEAN', 'TSMDEWMEAN', 'GWETROOT', 'LHLAND', 'SHLAND', 'SWLAND', 'PARDFLAND','PRECTOTLAND']].values.tolist()\n",
    "train_target = train_df['GPP'].tolist()\n",
    "\n",
    "means=np.array(means)\n",
    "stds=np.array(stds)\n",
    "merra_means=np.array(merra_means)\n",
    "merra_stds=np.array(merra_stds)\n",
    "gpp_means=np.array(gpp_means)\n",
    "gpp_stds=np.array(gpp_stds)"
   ]
  },
  {
   "cell_type": "markdown",
   "id": "f9ab88a6-5f46-4be8-90eb-bd0812dcbf13",
   "metadata": {},
   "source": [
    "### Instantiating the datamodules used to create the training and testing batches. "
   ]
  },
  {
   "cell_type": "code",
   "execution_count": 8,
   "id": "4ab54550-854d-4156-82fe-ec00fd927ca0",
   "metadata": {},
   "outputs": [],
   "source": [
    "#create ordered paits of hls, merra input and flux output based on splits\n",
    "flux_dataset_train=flux_dataset([chips + '/' + str(ele) for ele in train_chips],means,stds, merra_train, merra_means, merra_stds,gpp_means, gpp_stds, train_target)\n",
    "flux_dataset_test=flux_dataset([chips_test + '/' + str(ele) for ele in test_chips],means,stds, merra_test, merra_means, merra_stds,gpp_means, gpp_stds, test_target)\n",
    "\n",
    "datamodule = flux_dataloader(flux_dataset_train, flux_dataset_test, train_batch_size, test_batch_size, config)\n",
    "datamodule_ = flux_dataloader(flux_dataset_train, flux_dataset_train, train_batch_size, test_batch_size, config)"
   ]
  },
  {
   "cell_type": "markdown",
   "id": "939f5d58-b2d3-4dbf-bcaf-cec785e7312b",
   "metadata": {},
   "source": [
    "### Downloading the checkpoint from HuggingFace"
   ]
  },
  {
   "cell_type": "code",
   "execution_count": 9,
   "id": "c1dfc48b-c21a-420a-a079-28f09a831b8f",
   "metadata": {},
   "outputs": [],
   "source": [
    "from huggingface_hub import hf_hub_download, snapshot_download\n",
    "\n",
    "if not os.path.isfile(\"Prithvi_EO_V2_300M_TL.pt\"):\n",
    "    hf_hub_download(\n",
    "                  repo_id=\"ibm-nasa-geospatial/Prithvi-EO-2.0-300M-TL\",\n",
    "                  filename=\"Prithvi_EO_V2_300M_TL.pt\",\n",
    "                  local_dir=\".\",\n",
    "         )"
   ]
  },
  {
   "cell_type": "markdown",
   "id": "bcfbdccf-e6bd-4cfa-ae6a-b94c30afea75",
   "metadata": {},
   "source": [
    "### Creating an instance of our custom model used to estimate the carbon flux problem. "
   ]
  },
  {
   "cell_type": "code",
   "execution_count": 10,
   "id": "75607a1a-9f23-4812-be65-66075d6b9594",
   "metadata": {},
   "outputs": [],
   "source": [
    "from terratorch.models.backbones.prithvi_mae import PrithviViT\n",
    "from terratorch.models.backbones.vit_encoder_decoder import TemporalViTEncoder\n",
    "\n",
    "wt_file  = \"Prithvi_EO_V2_300M_TL.pt\"\n",
    "\n",
    "#cf_full=get_config(None)\n",
    "\n",
    "prithvi_instance = PrithviViT(\n",
    "        patch_size=patch_size,\n",
    "        num_frames=n_frame,\n",
    "        in_chans=n_channel,\n",
    "        embed_dim=embed_dim,\n",
    "        decoder_depth=decoder_depth,\n",
    "        num_heads=num_heads,\n",
    "        mlp_ratio=mlp_ratio,\n",
    "        head_dropout=head_dropout,\n",
    "        backbone_input_size=[1,50,50],\n",
    "        encoder_only=False,\n",
    "        padding=True,\n",
    ")\n",
    "prithvi_model = prithvi_terratorch(wt_file, prithvi_instance, [1, 50, 50])\n",
    "prithvi_model.freeze_encoder()\n",
    "\n",
    "# Instantiate the regression model\n",
    "model_comb = RegressionModel_flux(prithvi_model)"
   ]
  },
  {
   "cell_type": "markdown",
   "id": "ea9efa19-6922-42d8-be55-13441fc3c0ef",
   "metadata": {},
   "source": [
    "### Loss function and optimizer"
   ]
  },
  {
   "cell_type": "code",
   "execution_count": 11,
   "id": "ebd1dbb7-11a5-480a-b100-d0f603a26d24",
   "metadata": {},
   "outputs": [],
   "source": [
    "criterion = nn.MSELoss()\n",
    "optimizer = optim.AdamW(model_comb.parameters(), lr=learning_rate, weight_decay=0.05)\n",
    "scheduler = ReduceLROnPlateau(optimizer, mode='min', factor=0.9, patience=5, verbose=True)"
   ]
  },
  {
   "cell_type": "markdown",
   "id": "e37c85fa-fc8a-4ada-b47d-c999c7bde371",
   "metadata": {},
   "source": [
    "### The task object, used to manage the training and inference processes."
   ]
  },
  {
   "cell_type": "code",
   "execution_count": 12,
   "id": "66c6528e-0985-4dde-a4d7-e1310a13afec",
   "metadata": {},
   "outputs": [],
   "source": [
    "task = PixelwiseRegressionTask(None, None, model=model_comb, loss=\"mse\", optimizer=\"AdamW\")"
   ]
  },
  {
   "cell_type": "markdown",
   "id": "0cc28bb7-7241-49a5-b828-be6ea628dad2",
   "metadata": {},
   "source": [
    "### Instantiating the trainer object (from Pytorch Lightning)."
   ]
  },
  {
   "cell_type": "code",
   "execution_count": 13,
   "id": "b8031885-1d96-4498-8fe4-4aa73a8bcd88",
   "metadata": {},
   "outputs": [
    {
     "name": "stderr",
     "output_type": "stream",
     "text": [
      "INFO: GPU available: True (cuda), used: True\n",
      "INFO:lightning.pytorch.utilities.rank_zero:GPU available: True (cuda), used: True\n",
      "INFO: TPU available: False, using: 0 TPU cores\n",
      "INFO:lightning.pytorch.utilities.rank_zero:TPU available: False, using: 0 TPU cores\n",
      "INFO: HPU available: False, using: 0 HPUs\n",
      "INFO:lightning.pytorch.utilities.rank_zero:HPU available: False, using: 0 HPUs\n"
     ]
    }
   ],
   "source": [
    "accelerator = \"cuda\"\n",
    "checkpoint_callback = ModelCheckpoint(monitor=task.monitor, save_top_k=1, save_last=True)\n",
    "num_epochs = n_iteration\n",
    "experiment = \"carbon_flux\"\n",
    "default_root_dir = os.path.join(\"tutorial_experiments\", experiment)\n",
    "logger = TensorBoardLogger(save_dir=default_root_dir, name=experiment)\n",
    "\n",
    "trainer = Trainer(\n",
    "    # precision=\"16-mixed\",\n",
    "    accelerator=accelerator,\n",
    "    callbacks=[\n",
    "        RichProgressBar(),\n",
    "        checkpoint_callback,\n",
    "        LearningRateMonitor(logging_interval=\"epoch\"),\n",
    "    ],\n",
    "    max_epochs=num_epochs,\n",
    "    default_root_dir=default_root_dir,\n",
    "    log_every_n_steps=1,\n",
    "    check_val_every_n_epoch=200\n",
    "\n",
    ")"
   ]
  },
  {
   "cell_type": "markdown",
   "id": "bf8a9cd7-041a-4713-b77a-cfc74256d34a",
   "metadata": {},
   "source": [
    "### \"Zeroshot\" evaluation (no training). "
   ]
  },
  {
   "cell_type": "code",
   "execution_count": 14,
   "id": "bec6275e-8166-49c1-9d4b-36915037231c",
   "metadata": {},
   "outputs": [
    {
     "name": "stderr",
     "output_type": "stream",
     "text": [
      "INFO: LOCAL_RANK: 0 - CUDA_VISIBLE_DEVICES: [0]\n",
      "INFO:lightning.pytorch.accelerators.cuda:LOCAL_RANK: 0 - CUDA_VISIBLE_DEVICES: [0]\n"
     ]
    },
    {
     "data": {
      "application/vnd.jupyter.widget-view+json": {
       "model_id": "164ba2f339084c149b4f72a2b4049e66",
       "version_major": 2,
       "version_minor": 0
      },
      "text/plain": [
       "Output()"
      ]
     },
     "metadata": {},
     "output_type": "display_data"
    },
    {
     "name": "stderr",
     "output_type": "stream",
     "text": [
      "WARNING:root:Input torch.Size([1, 50, 50]) is not divisible by patch size [1, 16, 16].The border will be ignored, add backbone_padding for pixel-wise tasks.\n"
     ]
    },
    {
     "data": {
      "text/html": [
       "<pre style=\"white-space:pre;overflow-x:auto;line-height:normal;font-family:Menlo,'DejaVu Sans Mono',consolas,'Courier New',monospace\"></pre>\n"
      ],
      "text/plain": []
     },
     "metadata": {},
     "output_type": "display_data"
    },
    {
     "name": "stdout",
     "output_type": "stream",
     "text": [
      "-0.06871962547302246\n"
     ]
    },
    {
     "data": {
      "text/plain": [
       "Text(0.5, 1.0, 'R2: -0.06871945631186782')"
      ]
     },
     "execution_count": 14,
     "metadata": {},
     "output_type": "execute_result"
    },
    {
     "data": {
      "image/png": "[encoded data removed]",
      "text/plain": [
       "<Figure size 640x480 with 1 Axes>"
      ]
     },
     "metadata": {},
     "output_type": "display_data"
    }
   ],
   "source": [
    "results = trainer.predict(model=task, datamodule=datamodule, return_predictions=True)\n",
    "pred_test=[i[0] for i in results]\n",
    "targ_test=[j['mask'] for j in flux_dataset_test]\n",
    "pred_test = np.concatenate(pred_test, axis=0)\n",
    "r_norm=r2_score(targ_test, pred_test) #takes true, pred --R2 test set normalized scale (same as unnorm)\n",
    "\n",
    "print(r_norm)\n",
    "\n",
    "#gpp_means, std as np.array\n",
    "mean_gpp = gpp_means.reshape(-1,1,1)  # Mean across height and width, for each channel\n",
    "stds_gpp = gpp_stds.reshape(-1,1,1)\n",
    "\n",
    "pred_final_unnorm=pred_test*stds_gpp + mean_gpp\n",
    "targ_final_unnorm=targ_test*stds_gpp + mean_gpp\n",
    "pred_final_unnorm=pred_final_unnorm.flatten()[:, None] #np.reshape(pred_final_unnorm,(pred_final_unnorm.shape[1],1))\n",
    "targ_final_unnorm=targ_final_unnorm.flatten()[:, None] #np.reshape(targ_final_unnorm,(targ_final_unnorm.shape[2],1))\n",
    "r2_unnorm=r2_score(targ_final_unnorm, pred_final_unnorm)#true,pred\n",
    "mse_unnorm= (targ_final_unnorm - pred_final_unnorm) ** 2\n",
    "mae_unnorm= (np.abs(targ_final_unnorm - pred_final_unnorm))\n",
    "rel_err_unnorm= (np.abs(targ_final_unnorm-pred_final_unnorm)/targ_final_unnorm)#(obs-exp)/obs -- obs: true reading, exp: model pred\n",
    "\n",
    "test_stack=np.hstack((pred_test, targ_test, pred_final_unnorm, targ_final_unnorm, mse_unnorm, mae_unnorm, rel_err_unnorm))\n",
    "np.savetxt(f\"{metrics_dir}test_eval_MSELoss_ep{num_epochs}_lr{learning_rate}_{optim_name}_sc{sch}_yr{year_to_test}.csv\",test_stack,fmt='%10.6f', delimiter=',', newline='\\n', header='pred_n, tar_n, pred, tar, mse,mae, rel_err')\n",
    "\n",
    "#save r2 figure\n",
    "plt.scatter(targ_final_unnorm, pred_final_unnorm, alpha=0.6)\n",
    "plt.plot([min(targ_final_unnorm), max(targ_final_unnorm)], [min(targ_final_unnorm), max(targ_final_unnorm)], color='red', lw=2, label='Perfect fit')\n",
    "plt.xlabel('True GPP', fontsize=14)\n",
    "plt.ylabel('Predicted GPP', fontsize=14)\n",
    "plt.grid(True)\n",
    "plt.title('R2: ' + str(r2_unnorm))"
   ]
  },
  {
   "cell_type": "markdown",
   "id": "b8fa7497-e776-4abd-bea1-56d49aaf896b",
   "metadata": {},
   "source": [
    "### The training stage. "
   ]
  },
  {
   "cell_type": "code",
   "execution_count": null,
   "id": "54aca5dc-8e9c-405d-a0be-7d97ca46054f",
   "metadata": {},
   "outputs": [],
   "source": [
    "trainer.fit(model=task, datamodule=datamodule)"
   ]
  },
  {
   "cell_type": "markdown",
   "id": "be9266bc-8acb-4539-9966-9521f4e10416",
   "metadata": {},
   "source": [
    "### The inference stage. "
   ]
  },
  {
   "cell_type": "code",
   "execution_count": null,
   "id": "99007e50-8c03-4b15-8646-e5decd7a81b5",
   "metadata": {},
   "outputs": [],
   "source": [
    "results = trainer.predict(model=task, datamodule=datamodule, return_predictions=True)\n",
    "results_train = trainer.predict(model=task, datamodule=datamodule_, return_predictions=True)"
   ]
  },
  {
   "cell_type": "markdown",
   "id": "98dc8400-2d0b-4383-b8ee-05266cd12a40",
   "metadata": {},
   "source": [
    "### Applying on test set (batches) and deriving metrics, plots. "
   ]
  },
  {
   "cell_type": "code",
   "execution_count": null,
   "id": "47f94148-cc84-43f4-9ada-20155b3c3fcf",
   "metadata": {},
   "outputs": [],
   "source": [
    "# Testing Phase -- test set data in batches\n",
    "pred_test=[i[0] for i in results]\n",
    "targ_test=[j['mask'] for j in flux_dataset_test]\n",
    "pred_train=[i[0] for i in results_train]\n",
    "targ_train=[j['mask'] for j in flux_dataset_train]\n",
    "\n",
    "# Concatenate predictions across batches\n",
    "pred_test = np.concatenate(pred_test, axis=0)\n",
    "targ_test = np.concatenate(targ_test, axis=0)[:,None]\n",
    "\n",
    "r_norm=r2_score(targ_test, pred_test) #takes true, pred --R2 test set normalized scale (same as unnorm)"
   ]
  },
  {
   "cell_type": "markdown",
   "id": "dc51c75b-7498-44dd-86f1-288bfd1dfaec",
   "metadata": {},
   "source": [
    "### Unnormalizing data with train mean, std to saving predictions, computing metrics and saving."
   ]
  },
  {
   "cell_type": "code",
   "execution_count": null,
   "id": "9438e038-5c90-4278-a284-efe34369ab88",
   "metadata": {},
   "outputs": [],
   "source": [
    "#gpp_means, std as np.array\n",
    "mean_gpp = gpp_means.reshape(-1,1,1)  # Mean across height and width, for each channel\n",
    "stds_gpp = gpp_stds.reshape(-1,1,1)\n",
    "\n",
    "pred_final_unnorm=pred_test*stds_gpp + mean_gpp\n",
    "targ_final_unnorm=targ_test*stds_gpp + mean_gpp\n",
    "pred_final_unnorm=pred_final_unnorm.flatten()[:, None] #np.reshape(pred_final_unnorm,(pred_final_unnorm.shape[1],1))\n",
    "targ_final_unnorm=targ_final_unnorm.flatten()[:, None] #np.reshape(targ_final_unnorm,(targ_final_unnorm.shape[2],1))\n",
    "r2_unnorm=r2_score(targ_final_unnorm, pred_final_unnorm)#true,pred\n",
    "mse_unnorm= (targ_final_unnorm - pred_final_unnorm) ** 2\n",
    "mae_unnorm= (np.abs(targ_final_unnorm - pred_final_unnorm))\n",
    "rel_err_unnorm= (np.abs(targ_final_unnorm-pred_final_unnorm)/targ_final_unnorm)#(obs-exp)/obs -- obs: true reading, exp: model pred\n",
    "\n",
    "test_stack=np.hstack((pred_test, targ_test, pred_final_unnorm, targ_final_unnorm, mse_unnorm, mae_unnorm, rel_err_unnorm))\n",
    "np.savetxt(f\"{metrics_dir}test_eval_MSELoss_ep{num_epochs}_lr{learning_rate}_{optim_name}_sc{sch}_yr{year_to_test}.csv\",test_stack,fmt='%10.6f', delimiter=',', newline='\\n', header='pred_n, tar_n, pred, tar, mse,mae, rel_err')\n",
    "\n",
    "#save r2 figure\n",
    "plt.scatter(targ_final_unnorm, pred_final_unnorm, alpha=0.6)\n",
    "plt.plot([min(targ_final_unnorm), max(targ_final_unnorm)], [min(targ_final_unnorm), max(targ_final_unnorm)], color='red', lw=2, label='Perfect fit')\n",
    "plt.xlabel('True GPP', fontsize=14)\n",
    "plt.ylabel('Predicted GPP', fontsize=14)\n",
    "plt.grid(True)\n",
    "plt.title('R2: ' + str(r2_unnorm))"
   ]
  },
  {
   "cell_type": "markdown",
   "id": "901aef67-5849-45ab-9e41-f5248ae74d1c",
   "metadata": {},
   "source": [
    "### Applying on train set (batches) in eval mode and deriving metrics, plots. "
   ]
  },
  {
   "cell_type": "code",
   "execution_count": null,
   "id": "4335fe75-eae7-4bab-b91c-4eb75c421864",
   "metadata": {},
   "outputs": [],
   "source": [
    "# evaluate performance on training data\n",
    "pred_test_tr=[i[0] for i in results_train]\n",
    "targ_test_tr=[j['mask'] for j in flux_dataset_train]\n",
    "\n",
    "# Concatenate predictions across batches\n",
    "pred_test_tr = np.concatenate(pred_test_tr, axis=0)\n",
    "targ_test_tr = np.concatenate(targ_test_tr, axis=0)[:,None]\n",
    "\n",
    "#unnormalize and save pred, metrics on full training set\n",
    "pred_final_unnorm_tr=pred_test_tr*stds_gpp + mean_gpp\n",
    "targ_final_unnorm_tr=targ_test_tr*stds_gpp + mean_gpp\n",
    "\n",
    "pred_final_unnorm_tr=pred_final_unnorm_tr.flatten()[:, None] #np.reshape(pred_final_unnorm_tr,(pred_final_unnorm_tr.shape[1],1))\n",
    "targ_final_unnorm_tr=targ_final_unnorm_tr.flatten()[:, None] #np.reshape(targ_final_unnorm_tr,(targ_final_unnorm_tr.shape[2],1))\n",
    "r2_unnorm_tr=r2_score(targ_final_unnorm_tr, pred_final_unnorm_tr)#true,pred\n",
    "print(r2_unnorm_tr)\n",
    "#mse_norm= (test_pred - test_target) ** 2\n",
    "mse_unnorm_tr= (targ_final_unnorm_tr - pred_final_unnorm_tr) ** 2\n",
    "mae_unnorm_tr= (np.abs(targ_final_unnorm_tr - pred_final_unnorm_tr))\n",
    "rel_err_unnorm_tr= (np.abs(targ_final_unnorm_tr-pred_final_unnorm_tr)/targ_final_unnorm_tr)\n",
    "train_stack=np.hstack((pred_test_tr, targ_test_tr, pred_final_unnorm_tr, targ_final_unnorm_tr ,mse_unnorm_tr, mae_unnorm_tr, rel_err_unnorm_tr))\n",
    "np.savetxt(f\"{metrics_dir}train_eval_MSELoss_ep{num_epochs}_lr{learning_rate}_{optim_name}_sc{sch}_yr{year_to_test}.csv\",test_stack,fmt='%10.6f', delimiter=',', newline='\\n', header='pred_n, tar_n, pred, tar, mse,mae, rel_err')\n",
    "\n",
    "#save r2 image\n",
    "plt.scatter(targ_final_unnorm_tr, pred_final_unnorm_tr, alpha=0.6)\n",
    "plt.plot([min(targ_final_unnorm_tr), max(targ_final_unnorm_tr)], [min(targ_final_unnorm_tr), max(targ_final_unnorm_tr)], color='red', lw=2, label='Perfect fit')\n",
    "plt.xlabel('True GPP', fontsize=14)\n",
    "plt.ylabel('Predicted GPP', fontsize=14)\n",
    "plt.grid(True)\n",
    "plt.title('R2: ' + str(r2_unnorm_tr))"
   ]
  }
 ],
 "metadata": {
  "kernelspec": {
   "display_name": "Python 3 (ipykernel)",
   "language": "python",
   "name": "python3"
  },
  "language_info": {
   "codemirror_mode": {
    "name": "ipython",
    "version": 3
   },
   "file_extension": ".py",
   "mimetype": "text/x-python",
   "name": "python",
   "nbconvert_exporter": "python",
   "pygments_lexer": "ipython3",
   "version": "3.11.9"
  }
 },
 "nbformat": 4,
 "nbformat_minor": 5
}
